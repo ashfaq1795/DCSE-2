{
 "cells": [
  {
   "cell_type": "code",
   "execution_count": null,
   "id": "77f4e053",
   "metadata": {},
   "outputs": [],
   "source": [
    "import matplotlib.pyplot as plt"
   ]
  },
  {
   "cell_type": "code",
   "execution_count": null,
   "id": "6af120d9",
   "metadata": {},
   "outputs": [],
   "source": [
    "yield_apples = [0.895, 0.91, 0.919, 0.926, 0.929, 0.931]"
   ]
  },
  {
   "cell_type": "code",
   "execution_count": null,
   "id": "8cdcb698",
   "metadata": {},
   "outputs": [],
   "source": [
    "plt.plot(yield_apples)"
   ]
  },
  {
   "cell_type": "code",
   "execution_count": null,
   "id": "3919d31c",
   "metadata": {},
   "outputs": [],
   "source": [
    "plt.plot(yield_apples);"
   ]
  },
  {
   "cell_type": "code",
   "execution_count": null,
   "id": "4b385674",
   "metadata": {},
   "outputs": [],
   "source": [
    "years = [2010, 2011, 2012, 2013, 2014, 2015]\n",
    "yield_apples = [0.895, 0.91, 0.919, 0.926, 0.929, 0.931]"
   ]
  },
  {
   "cell_type": "code",
   "execution_count": null,
   "id": "416c2ac0",
   "metadata": {},
   "outputs": [],
   "source": [
    "plt.plot(years, yield_apples);"
   ]
  },
  {
   "cell_type": "code",
   "execution_count": null,
   "id": "5dfd48d0",
   "metadata": {},
   "outputs": [],
   "source": [
    "plt.plot(years, yield_apples)\n",
    "plt.xlabel('Year')\n",
    "plt.ylabel('Yield (tons per hectare)');"
   ]
  },
  {
   "cell_type": "code",
   "execution_count": null,
   "id": "88bfbf69",
   "metadata": {},
   "outputs": [],
   "source": [
    "years = range(2000, 2012)\n",
    "apples = [0.895, 0.91, 0.919, 0.926, 0.929, 0.931, 0.934, 0.936, 0.937, 0.9375, 0.9372, 0.939]\n",
    "oranges = [0.962, 0.941, 0.930, 0.923, 0.918, 0.908, 0.907, 0.904, 0.901, 0.898, 0.9, 0.896, ]"
   ]
  },
  {
   "cell_type": "code",
   "execution_count": null,
   "id": "65a57360",
   "metadata": {},
   "outputs": [],
   "source": [
    "plt.plot(years, apples)\n",
    "plt.plot(years, oranges)\n",
    "plt.xlabel('Year')\n",
    "plt.ylabel('Yield (tons per hectare)');"
   ]
  },
  {
   "cell_type": "code",
   "execution_count": null,
   "id": "fb173981",
   "metadata": {},
   "outputs": [],
   "source": [
    "plt.plot(years, apples)\n",
    "plt.plot(years, oranges)\n",
    "\n",
    "plt.xlabel('Year')\n",
    "plt.ylabel('Yield (tons per hectare)')\n",
    "\n",
    "plt.title(\"Crop Yields In Pakistan\")\n",
    "plt.legend(['Apples', 'Oranges']);"
   ]
  },
  {
   "cell_type": "code",
   "execution_count": null,
   "id": "74f73e67",
   "metadata": {},
   "outputs": [],
   "source": [
    "# plt.figure(figsize=(12, 6))\n",
    "plt.plot(years, apples, marker='o')\n",
    "plt.plot(years, oranges, marker='x')\n",
    "\n",
    "plt.xlabel('Year')\n",
    "plt.ylabel('Yield (tons per hectare)')\n",
    "\n",
    "plt.title(\"Crop Yields in Pakistan\")\n",
    "plt.legend(['Apples', 'Oranges']);\n"
   ]
  },
  {
   "cell_type": "code",
   "execution_count": null,
   "id": "57ddbc45",
   "metadata": {},
   "outputs": [],
   "source": []
  }
 ],
 "metadata": {
  "kernelspec": {
   "display_name": "Python 3 (ipykernel)",
   "language": "python",
   "name": "python3"
  },
  "language_info": {
   "codemirror_mode": {
    "name": "ipython",
    "version": 3
   },
   "file_extension": ".py",
   "mimetype": "text/x-python",
   "name": "python",
   "nbconvert_exporter": "python",
   "pygments_lexer": "ipython3",
   "version": "3.11.1"
  }
 },
 "nbformat": 4,
 "nbformat_minor": 5
}
