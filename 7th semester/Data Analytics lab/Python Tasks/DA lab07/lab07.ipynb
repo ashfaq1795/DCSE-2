{
 "cells": [
  {
   "cell_type": "markdown",
   "id": "89d877dd",
   "metadata": {},
   "source": [
    "## Lab Tasks"
   ]
  },
  {
   "cell_type": "code",
   "execution_count": 1,
   "id": "cc1bb2f6",
   "metadata": {},
   "outputs": [],
   "source": [
    "import pandas as pd"
   ]
  },
  {
   "cell_type": "code",
   "execution_count": 2,
   "id": "73ac5125",
   "metadata": {},
   "outputs": [],
   "source": [
    "covid_df=pd.read_csv('italy-covid-daywise.csv')"
   ]
  },
  {
   "cell_type": "code",
   "execution_count": 3,
   "id": "0875f969",
   "metadata": {},
   "outputs": [
    {
     "data": {
      "text/html": [
       "<div>\n",
       "<style scoped>\n",
       "    .dataframe tbody tr th:only-of-type {\n",
       "        vertical-align: middle;\n",
       "    }\n",
       "\n",
       "    .dataframe tbody tr th {\n",
       "        vertical-align: top;\n",
       "    }\n",
       "\n",
       "    .dataframe thead th {\n",
       "        text-align: right;\n",
       "    }\n",
       "</style>\n",
       "<table border=\"1\" class=\"dataframe\">\n",
       "  <thead>\n",
       "    <tr style=\"text-align: right;\">\n",
       "      <th></th>\n",
       "      <th>date</th>\n",
       "      <th>new_cases</th>\n",
       "      <th>new_deaths</th>\n",
       "      <th>new_tests</th>\n",
       "    </tr>\n",
       "  </thead>\n",
       "  <tbody>\n",
       "    <tr>\n",
       "      <th>0</th>\n",
       "      <td>2019-12-31</td>\n",
       "      <td>0</td>\n",
       "      <td>0</td>\n",
       "      <td>NaN</td>\n",
       "    </tr>\n",
       "    <tr>\n",
       "      <th>1</th>\n",
       "      <td>2020-01-01</td>\n",
       "      <td>0</td>\n",
       "      <td>0</td>\n",
       "      <td>NaN</td>\n",
       "    </tr>\n",
       "    <tr>\n",
       "      <th>2</th>\n",
       "      <td>2020-01-02</td>\n",
       "      <td>0</td>\n",
       "      <td>0</td>\n",
       "      <td>NaN</td>\n",
       "    </tr>\n",
       "    <tr>\n",
       "      <th>3</th>\n",
       "      <td>2020-01-03</td>\n",
       "      <td>0</td>\n",
       "      <td>0</td>\n",
       "      <td>NaN</td>\n",
       "    </tr>\n",
       "    <tr>\n",
       "      <th>4</th>\n",
       "      <td>2020-01-04</td>\n",
       "      <td>0</td>\n",
       "      <td>0</td>\n",
       "      <td>NaN</td>\n",
       "    </tr>\n",
       "    <tr>\n",
       "      <th>...</th>\n",
       "      <td>...</td>\n",
       "      <td>...</td>\n",
       "      <td>...</td>\n",
       "      <td>...</td>\n",
       "    </tr>\n",
       "    <tr>\n",
       "      <th>243</th>\n",
       "      <td>2020-08-30</td>\n",
       "      <td>1444</td>\n",
       "      <td>1</td>\n",
       "      <td>53541.0</td>\n",
       "    </tr>\n",
       "    <tr>\n",
       "      <th>244</th>\n",
       "      <td>2020-08-31</td>\n",
       "      <td>1365</td>\n",
       "      <td>4</td>\n",
       "      <td>42583.0</td>\n",
       "    </tr>\n",
       "    <tr>\n",
       "      <th>245</th>\n",
       "      <td>2020-09-01</td>\n",
       "      <td>996</td>\n",
       "      <td>6</td>\n",
       "      <td>54395.0</td>\n",
       "    </tr>\n",
       "    <tr>\n",
       "      <th>246</th>\n",
       "      <td>2020-09-02</td>\n",
       "      <td>975</td>\n",
       "      <td>8</td>\n",
       "      <td>NaN</td>\n",
       "    </tr>\n",
       "    <tr>\n",
       "      <th>247</th>\n",
       "      <td>2020-09-03</td>\n",
       "      <td>1326</td>\n",
       "      <td>6</td>\n",
       "      <td>NaN</td>\n",
       "    </tr>\n",
       "  </tbody>\n",
       "</table>\n",
       "<p>248 rows × 4 columns</p>\n",
       "</div>"
      ],
      "text/plain": [
       "           date  new_cases  new_deaths  new_tests\n",
       "0    2019-12-31          0           0        NaN\n",
       "1    2020-01-01          0           0        NaN\n",
       "2    2020-01-02          0           0        NaN\n",
       "3    2020-01-03          0           0        NaN\n",
       "4    2020-01-04          0           0        NaN\n",
       "..          ...        ...         ...        ...\n",
       "243  2020-08-30       1444           1    53541.0\n",
       "244  2020-08-31       1365           4    42583.0\n",
       "245  2020-09-01        996           6    54395.0\n",
       "246  2020-09-02        975           8        NaN\n",
       "247  2020-09-03       1326           6        NaN\n",
       "\n",
       "[248 rows x 4 columns]"
      ]
     },
     "execution_count": 3,
     "metadata": {},
     "output_type": "execute_result"
    }
   ],
   "source": [
    "covid_df"
   ]
  },
  {
   "cell_type": "markdown",
   "id": "6b495f3d",
   "metadata": {},
   "source": [
    "## Task01\n",
    "Find the total number of reported cases and deaths related to Covid-19 in Italy."
   ]
  },
  {
   "cell_type": "code",
   "execution_count": 4,
   "id": "25ff7d2e",
   "metadata": {},
   "outputs": [],
   "source": [
    "total_reported_cases=covid_df['new_cases'].sum()"
   ]
  },
  {
   "cell_type": "code",
   "execution_count": 5,
   "id": "5cb93b59",
   "metadata": {},
   "outputs": [
    {
     "data": {
      "text/plain": [
       "271515"
      ]
     },
     "execution_count": 5,
     "metadata": {},
     "output_type": "execute_result"
    }
   ],
   "source": [
    "total_reported_cases"
   ]
  },
  {
   "cell_type": "code",
   "execution_count": 6,
   "id": "0941fb18",
   "metadata": {},
   "outputs": [],
   "source": [
    "total_death_cases=covid_df['new_deaths'].sum()"
   ]
  },
  {
   "cell_type": "code",
   "execution_count": 7,
   "id": "db818af4",
   "metadata": {},
   "outputs": [
    {
     "data": {
      "text/plain": [
       "35497"
      ]
     },
     "execution_count": 7,
     "metadata": {},
     "output_type": "execute_result"
    }
   ],
   "source": [
    "total_death_cases"
   ]
  },
  {
   "cell_type": "markdown",
   "id": "f76e0ce7",
   "metadata": {},
   "source": [
    "## Task02\n",
    "Find the overall death rate (ratio of reported deaths to reported cases).\n"
   ]
  },
  {
   "cell_type": "code",
   "execution_count": 8,
   "id": "b032fd33",
   "metadata": {},
   "outputs": [],
   "source": [
    "overall_death_rate=total_reported_cases/total_death_cases"
   ]
  },
  {
   "cell_type": "code",
   "execution_count": 9,
   "id": "82e88993",
   "metadata": {},
   "outputs": [
    {
     "data": {
      "text/plain": [
       "7.648956249823929"
      ]
     },
     "execution_count": 9,
     "metadata": {},
     "output_type": "execute_result"
    }
   ],
   "source": [
    "overall_death_rate"
   ]
  },
  {
   "cell_type": "markdown",
   "id": "8b8594da",
   "metadata": {},
   "source": [
    "## Task03\n",
    "Find the overall number of tests conducted? A total of 935310 tests were conducted before daily test \n",
    "numbers were reported."
   ]
  },
  {
   "cell_type": "code",
   "execution_count": 10,
   "id": "18890c00",
   "metadata": {},
   "outputs": [],
   "source": [
    "total_tests_conducted=covid_df['new_tests'].sum()+935310"
   ]
  },
  {
   "cell_type": "code",
   "execution_count": 11,
   "id": "39296eb3",
   "metadata": {},
   "outputs": [
    {
     "data": {
      "text/plain": [
       "5214766.0"
      ]
     },
     "execution_count": 11,
     "metadata": {},
     "output_type": "execute_result"
    }
   ],
   "source": [
    "total_tests_conducted"
   ]
  },
  {
   "cell_type": "markdown",
   "id": "cff7e54a",
   "metadata": {},
   "source": [
    "## Task04\n",
    "Find the positive rate i.e. fraction of tests returned a positive result."
   ]
  },
  {
   "cell_type": "code",
   "execution_count": 12,
   "id": "d190deab",
   "metadata": {},
   "outputs": [],
   "source": [
    "positive_rate=total_reported_cases/total_tests_conducted"
   ]
  },
  {
   "cell_type": "code",
   "execution_count": 13,
   "id": "bffa5a5e",
   "metadata": {},
   "outputs": [
    {
     "data": {
      "text/plain": [
       "0.05206657403227681"
      ]
     },
     "execution_count": 13,
     "metadata": {},
     "output_type": "execute_result"
    }
   ],
   "source": [
    "positive_rate"
   ]
  },
  {
   "cell_type": "markdown",
   "id": "62b4863d",
   "metadata": {},
   "source": [
    "we can also find negative rate as,"
   ]
  },
  {
   "cell_type": "code",
   "execution_count": 14,
   "id": "b309fa01",
   "metadata": {},
   "outputs": [],
   "source": [
    "negative_rate=(total_tests_conducted-total_reported_cases)/total_tests_conducted"
   ]
  },
  {
   "cell_type": "code",
   "execution_count": 15,
   "id": "ac048b27",
   "metadata": {},
   "outputs": [
    {
     "data": {
      "text/plain": [
       "0.9479334259677232"
      ]
     },
     "execution_count": 15,
     "metadata": {},
     "output_type": "execute_result"
    }
   ],
   "source": [
    "negative_rate"
   ]
  },
  {
   "cell_type": "code",
   "execution_count": null,
   "id": "f6fb3938",
   "metadata": {},
   "outputs": [],
   "source": []
  }
 ],
 "metadata": {
  "kernelspec": {
   "display_name": "Python 3 (ipykernel)",
   "language": "python",
   "name": "python3"
  },
  "language_info": {
   "codemirror_mode": {
    "name": "ipython",
    "version": 3
   },
   "file_extension": ".py",
   "mimetype": "text/x-python",
   "name": "python",
   "nbconvert_exporter": "python",
   "pygments_lexer": "ipython3",
   "version": "3.11.1"
  }
 },
 "nbformat": 4,
 "nbformat_minor": 5
}
