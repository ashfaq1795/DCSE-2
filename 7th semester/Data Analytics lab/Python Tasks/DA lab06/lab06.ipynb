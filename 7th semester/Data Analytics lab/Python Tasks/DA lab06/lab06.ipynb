{
 "cells": [
  {
   "cell_type": "markdown",
   "id": "1df6a5b6",
   "metadata": {},
   "source": [
    "# Lab Tasks"
   ]
  },
  {
   "cell_type": "markdown",
   "id": "2cc8d49f",
   "metadata": {},
   "source": [
    "#### Task01 \n",
    "Replace all odd numbers in given array  with -1.                                                                       \n",
    "task01=np.array([0,1,2,3,4,5,6,7,8,9])"
   ]
  },
  {
   "cell_type": "code",
   "execution_count": 1,
   "id": "6fd9145c",
   "metadata": {},
   "outputs": [],
   "source": [
    "import numpy as np"
   ]
  },
  {
   "cell_type": "code",
   "execution_count": 2,
   "id": "465a367c",
   "metadata": {},
   "outputs": [],
   "source": [
    "task01=np.array([0,1,2,3,4,5,6,7,8,9])"
   ]
  },
  {
   "cell_type": "code",
   "execution_count": 3,
   "id": "db4d67d2",
   "metadata": {},
   "outputs": [
    {
     "data": {
      "text/plain": [
       "array([0, 1, 2, 3, 4, 5, 6, 7, 8, 9])"
      ]
     },
     "execution_count": 3,
     "metadata": {},
     "output_type": "execute_result"
    }
   ],
   "source": [
    "task01"
   ]
  },
  {
   "cell_type": "code",
   "execution_count": 4,
   "id": "158cbee2",
   "metadata": {},
   "outputs": [],
   "source": [
    "for i in task01:\n",
    "    if i%2!=0:\n",
    "        task01[i]=-1"
   ]
  },
  {
   "cell_type": "code",
   "execution_count": 5,
   "id": "06709464",
   "metadata": {},
   "outputs": [
    {
     "data": {
      "text/plain": [
       "array([ 0, -1,  2, -1,  4, -1,  6, -1,  8, -1])"
      ]
     },
     "execution_count": 5,
     "metadata": {},
     "output_type": "execute_result"
    }
   ],
   "source": [
    "task01"
   ]
  },
  {
   "cell_type": "markdown",
   "id": "df69364e",
   "metadata": {},
   "source": [
    "### Task02 \n",
    "Find the positions of\n",
    "1) elements in x where its value is more  than its corresponding element in y.\n",
    "2)elements in x where its value is equal to its corresponding element in y.                             \n",
    "x=np.array([21,64,86,22,74,55,81,66,89])                                                                    \n",
    "y=np.array([21,7,3,45,10,29,55,44,89])"
   ]
  },
  {
   "cell_type": "code",
   "execution_count": 6,
   "id": "70154864",
   "metadata": {},
   "outputs": [],
   "source": [
    "x=np.array([21,64,86,22,74,55,81,66,89])"
   ]
  },
  {
   "cell_type": "code",
   "execution_count": 7,
   "id": "d55407d1",
   "metadata": {},
   "outputs": [
    {
     "data": {
      "text/plain": [
       "array([21, 64, 86, 22, 74, 55, 81, 66, 89])"
      ]
     },
     "execution_count": 7,
     "metadata": {},
     "output_type": "execute_result"
    }
   ],
   "source": [
    "x"
   ]
  },
  {
   "cell_type": "code",
   "execution_count": 8,
   "id": "8411b580",
   "metadata": {},
   "outputs": [],
   "source": [
    "y=np.array([21,7,3,45,10,29,55,44,89])"
   ]
  },
  {
   "cell_type": "code",
   "execution_count": 9,
   "id": "8570bffc",
   "metadata": {},
   "outputs": [
    {
     "data": {
      "text/plain": [
       "array([21,  7,  3, 45, 10, 29, 55, 44, 89])"
      ]
     },
     "execution_count": 9,
     "metadata": {},
     "output_type": "execute_result"
    }
   ],
   "source": [
    "y"
   ]
  },
  {
   "cell_type": "markdown",
   "id": "29f4ab2a",
   "metadata": {},
   "source": [
    " positions of elements in x where its value is more than its corresponding element in y."
   ]
  },
  {
   "cell_type": "code",
   "execution_count": 10,
   "id": "1dc5590f",
   "metadata": {},
   "outputs": [
    {
     "name": "stdout",
     "output_type": "stream",
     "text": [
      "1,2,4,5,6,7,"
     ]
    }
   ],
   "source": [
    "for i in range(len(x)):\n",
    "    if x[i]>y[i]:\n",
    "        print(i,end=',')"
   ]
  },
  {
   "cell_type": "markdown",
   "id": "e326ed0f",
   "metadata": {},
   "source": [
    "positions of elements in x where its value is equal to its corresponding element in y."
   ]
  },
  {
   "cell_type": "code",
   "execution_count": 11,
   "id": "a6656eb5",
   "metadata": {},
   "outputs": [
    {
     "name": "stdout",
     "output_type": "stream",
     "text": [
      "0,8,"
     ]
    }
   ],
   "source": [
    "for i in range(len(x)):\n",
    "    if x[i]==y[i]:\n",
    "        print(i,end=',')"
   ]
  },
  {
   "cell_type": "markdown",
   "id": "bbb49a07",
   "metadata": {},
   "source": [
    "### Task03"
   ]
  },
  {
   "cell_type": "markdown",
   "id": "f7481931",
   "metadata": {},
   "source": [
    "Generate a 2D array of random numbers of size (1000,3). find the mean of 3 random numbers and store the mean of each row in fourth column of that row.save result in csv file by the name mean.csv on your local disk with headers num1, num2 num3 and avervage. also find which row has the highest mean of all."
   ]
  },
  {
   "cell_type": "code",
   "execution_count": 12,
   "id": "b793f788",
   "metadata": {},
   "outputs": [],
   "source": [
    "arr2d=np.random.rand(1000,3)"
   ]
  },
  {
   "cell_type": "code",
   "execution_count": 13,
   "id": "4bde922e",
   "metadata": {},
   "outputs": [
    {
     "data": {
      "text/plain": [
       "array([[0.39323667, 0.6394314 , 0.36252106],\n",
       "       [0.55616985, 0.65306829, 0.884103  ],\n",
       "       [0.42144908, 0.92911412, 0.96655347],\n",
       "       ...,\n",
       "       [0.373153  , 0.46836664, 0.26040695],\n",
       "       [0.86446074, 0.82746778, 0.71771681],\n",
       "       [0.69594843, 0.44118409, 0.64880824]])"
      ]
     },
     "execution_count": 13,
     "metadata": {},
     "output_type": "execute_result"
    }
   ],
   "source": [
    "arr2d"
   ]
  },
  {
   "cell_type": "markdown",
   "id": "c634523b",
   "metadata": {},
   "source": [
    "each list inside array is the item of an array"
   ]
  },
  {
   "cell_type": "code",
   "execution_count": 14,
   "id": "9912bfea",
   "metadata": {},
   "outputs": [],
   "source": [
    "mean_row=[]"
   ]
  },
  {
   "cell_type": "code",
   "execution_count": 15,
   "id": "26631c33",
   "metadata": {},
   "outputs": [],
   "source": [
    "for row in arr2d:   #row is not a keyword. we can also use any other veriable.\n",
    "    m=np.mean(row)\n",
    "    mean_row.append(m) "
   ]
  },
  {
   "cell_type": "code",
   "execution_count": 16,
   "id": "f2fb799b",
   "metadata": {},
   "outputs": [],
   "source": [
    "darray=np.array(mean_row)   #convert to numpy array"
   ]
  },
  {
   "cell_type": "code",
   "execution_count": 17,
   "id": "63ef2f6a",
   "metadata": {},
   "outputs": [],
   "source": [
    "n=darray.reshape(1000,1)"
   ]
  },
  {
   "cell_type": "code",
   "execution_count": 18,
   "id": "fced230d",
   "metadata": {},
   "outputs": [
    {
     "data": {
      "text/plain": [
       "array([[0.39323667, 0.6394314 , 0.36252106, 0.46506304],\n",
       "       [0.55616985, 0.65306829, 0.884103  , 0.69778038],\n",
       "       [0.42144908, 0.92911412, 0.96655347, 0.77237222],\n",
       "       ...,\n",
       "       [0.373153  , 0.46836664, 0.26040695, 0.36730886],\n",
       "       [0.86446074, 0.82746778, 0.71771681, 0.80321511],\n",
       "       [0.69594843, 0.44118409, 0.64880824, 0.59531359]])"
      ]
     },
     "execution_count": 18,
     "metadata": {},
     "output_type": "execute_result"
    }
   ],
   "source": [
    "new_array=np.concatenate((arr2d,n),axis=1)    #concatinate two arrays to specific axis. 0=row and 1=column\n",
    "new_array"
   ]
  },
  {
   "cell_type": "code",
   "execution_count": 19,
   "id": "225d94fd",
   "metadata": {},
   "outputs": [],
   "source": [
    "np.savetxt('mean.csv',new_array, fmt='%.18e',header='num1,num2,num3,mean', delimiter=' ')  #this function save array to file"
   ]
  },
  {
   "cell_type": "code",
   "execution_count": 20,
   "id": "902dcd05",
   "metadata": {},
   "outputs": [
    {
     "data": {
      "text/plain": [
       "0.9339277299816967"
      ]
     },
     "execution_count": 20,
     "metadata": {},
     "output_type": "execute_result"
    }
   ],
   "source": [
    "np.max(new_array[:,3])"
   ]
  },
  {
   "cell_type": "code",
   "execution_count": 21,
   "id": "dda3b930",
   "metadata": {},
   "outputs": [
    {
     "data": {
      "text/plain": [
       "0.04305083486581851"
      ]
     },
     "execution_count": 21,
     "metadata": {},
     "output_type": "execute_result"
    }
   ],
   "source": [
    "np.min(new_array[:,3])"
   ]
  },
  {
   "cell_type": "code",
   "execution_count": null,
   "id": "5c1ff7d7",
   "metadata": {},
   "outputs": [],
   "source": []
  }
 ],
 "metadata": {
  "kernelspec": {
   "display_name": "Python 3 (ipykernel)",
   "language": "python",
   "name": "python3"
  },
  "language_info": {
   "codemirror_mode": {
    "name": "ipython",
    "version": 3
   },
   "file_extension": ".py",
   "mimetype": "text/x-python",
   "name": "python",
   "nbconvert_exporter": "python",
   "pygments_lexer": "ipython3",
   "version": "3.11.1"
  }
 },
 "nbformat": 4,
 "nbformat_minor": 5
}
