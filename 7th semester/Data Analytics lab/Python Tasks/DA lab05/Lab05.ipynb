{
 "cells": [
  {
   "cell_type": "markdown",
   "id": "7a508334",
   "metadata": {},
   "source": [
    "# Q no: 01\n",
    "Import the numpy package under the name np"
   ]
  },
  {
   "cell_type": "code",
   "execution_count": 6,
   "id": "c9154998",
   "metadata": {},
   "outputs": [],
   "source": [
    "import numpy as np"
   ]
  },
  {
   "cell_type": "markdown",
   "id": "1cbdaba2",
   "metadata": {},
   "source": [
    "# Q no: 02\n",
    "Create a vector with values ranging from 10 to 49"
   ]
  },
  {
   "cell_type": "code",
   "execution_count": 7,
   "id": "638666ff",
   "metadata": {},
   "outputs": [],
   "source": [
    "z=np.arange(10,49)"
   ]
  },
  {
   "cell_type": "code",
   "execution_count": 8,
   "id": "a750a482",
   "metadata": {},
   "outputs": [
    {
     "data": {
      "text/plain": [
       "array([10, 11, 12, 13, 14, 15, 16, 17, 18, 19, 20, 21, 22, 23, 24, 25, 26,\n",
       "       27, 28, 29, 30, 31, 32, 33, 34, 35, 36, 37, 38, 39, 40, 41, 42, 43,\n",
       "       44, 45, 46, 47, 48])"
      ]
     },
     "execution_count": 8,
     "metadata": {},
     "output_type": "execute_result"
    }
   ],
   "source": [
    "z"
   ]
  },
  {
   "cell_type": "markdown",
   "id": "00660886",
   "metadata": {},
   "source": [
    "# Q no: 03\n",
    "Reverse a vector (first element becomes last)"
   ]
  },
  {
   "cell_type": "code",
   "execution_count": 9,
   "id": "2960934f",
   "metadata": {},
   "outputs": [
    {
     "data": {
      "text/plain": [
       "array([48, 47, 46, 45, 44, 43, 42, 41, 40, 39, 38, 37, 36, 35, 34, 33, 32,\n",
       "       31, 30, 29, 28, 27, 26, 25, 24, 23, 22, 21, 20, 19, 18, 17, 16, 15,\n",
       "       14, 13, 12, 11, 10])"
      ]
     },
     "execution_count": 9,
     "metadata": {},
     "output_type": "execute_result"
    }
   ],
   "source": [
    "z[::-1]"
   ]
  },
  {
   "cell_type": "markdown",
   "id": "471c7e89",
   "metadata": {},
   "source": [
    "# Q no: 04\n",
    "Create a 3x3 matrix with values ranging from 0 to 8"
   ]
  },
  {
   "cell_type": "code",
   "execution_count": 10,
   "id": "2449777a",
   "metadata": {},
   "outputs": [],
   "source": [
    "vector=np.arange(0,9).reshape(3,3)"
   ]
  },
  {
   "cell_type": "code",
   "execution_count": 11,
   "id": "3edf02fa",
   "metadata": {},
   "outputs": [
    {
     "data": {
      "text/plain": [
       "array([[0, 1, 2],\n",
       "       [3, 4, 5],\n",
       "       [6, 7, 8]])"
      ]
     },
     "execution_count": 11,
     "metadata": {},
     "output_type": "execute_result"
    }
   ],
   "source": [
    "vector"
   ]
  },
  {
   "cell_type": "markdown",
   "id": "9b685bea",
   "metadata": {},
   "source": [
    "# Q no: 05\n",
    "Find indices of non-zero elements from [1,2,0,0,4,0]"
   ]
  },
  {
   "cell_type": "code",
   "execution_count": 12,
   "id": "82579a8c",
   "metadata": {},
   "outputs": [
    {
     "data": {
      "text/plain": [
       "(array([0, 1, 4], dtype=int64),)"
      ]
     },
     "execution_count": 12,
     "metadata": {},
     "output_type": "execute_result"
    }
   ],
   "source": [
    "x=[1,2,0,0,4,0]\n",
    "np.nonzero(x)"
   ]
  },
  {
   "cell_type": "markdown",
   "id": "25ad46d9",
   "metadata": {},
   "source": [
    "# Q no: 06\n",
    "Create a 3x3 identity matrix"
   ]
  },
  {
   "cell_type": "code",
   "execution_count": 13,
   "id": "5464aae6",
   "metadata": {},
   "outputs": [],
   "source": [
    "g=np.identity(3)"
   ]
  },
  {
   "cell_type": "code",
   "execution_count": 14,
   "id": "7000319f",
   "metadata": {},
   "outputs": [
    {
     "data": {
      "text/plain": [
       "array([[1., 0., 0.],\n",
       "       [0., 1., 0.],\n",
       "       [0., 0., 1.]])"
      ]
     },
     "execution_count": 14,
     "metadata": {},
     "output_type": "execute_result"
    }
   ],
   "source": [
    "g"
   ]
  },
  {
   "cell_type": "markdown",
   "id": "d01a5bc1",
   "metadata": {},
   "source": [
    "# Q no: 07\n",
    "Create a 3x3x3 array with random values"
   ]
  },
  {
   "cell_type": "code",
   "execution_count": 15,
   "id": "5ae15233",
   "metadata": {},
   "outputs": [],
   "source": [
    "arr=np.random.rand(3,3,3)"
   ]
  },
  {
   "cell_type": "code",
   "execution_count": 16,
   "id": "cba4ebd3",
   "metadata": {},
   "outputs": [
    {
     "data": {
      "text/plain": [
       "array([[[0.8061509 , 0.98707476, 0.04978563],\n",
       "        [0.60795289, 0.54623883, 0.03472873],\n",
       "        [0.91334831, 0.69847769, 0.24554668]],\n",
       "\n",
       "       [[0.5388219 , 0.05857728, 0.53528786],\n",
       "        [0.76990147, 0.93898193, 0.83443352],\n",
       "        [0.97886112, 0.0946318 , 0.28866579]],\n",
       "\n",
       "       [[0.43674043, 0.40120108, 0.21461183],\n",
       "        [0.08221506, 0.90376337, 0.48042462],\n",
       "        [0.92207922, 0.35325528, 0.43350278]]])"
      ]
     },
     "execution_count": 16,
     "metadata": {},
     "output_type": "execute_result"
    }
   ],
   "source": [
    "arr"
   ]
  },
  {
   "cell_type": "markdown",
   "id": "8885fe9c",
   "metadata": {},
   "source": [
    "# Q no: 08\n",
    "Create a 10x10 array with random values and find the minimum and\n",
    "maximum values"
   ]
  },
  {
   "cell_type": "code",
   "execution_count": 17,
   "id": "ccc96060",
   "metadata": {},
   "outputs": [],
   "source": [
    "f=np.random.rand(10,10)"
   ]
  },
  {
   "cell_type": "code",
   "execution_count": 18,
   "id": "e97c9ed2",
   "metadata": {},
   "outputs": [
    {
     "data": {
      "text/plain": [
       "array([[0.73824069, 0.82580746, 0.05426292, 0.71571995, 0.01137245,\n",
       "        0.08906186, 0.07196501, 0.71974977, 0.13002266, 0.55690376],\n",
       "       [0.22415645, 0.5311203 , 0.35235069, 0.4680297 , 0.2547114 ,\n",
       "        0.04118804, 0.05168917, 0.55695903, 0.56523169, 0.89340173],\n",
       "       [0.07948051, 0.13012798, 0.51088075, 0.87703223, 0.46838387,\n",
       "        0.3238835 , 0.73841545, 0.81978209, 0.01543572, 0.73239264],\n",
       "       [0.14292107, 0.11997832, 0.07034655, 0.59074703, 0.44571329,\n",
       "        0.19162116, 0.41742877, 0.06214748, 0.63102949, 0.24944139],\n",
       "       [0.03270788, 0.64626885, 0.44352112, 0.90099436, 0.22986435,\n",
       "        0.27843353, 0.89574342, 0.48869953, 0.34915898, 0.03506977],\n",
       "       [0.22151134, 0.0296127 , 0.57021161, 0.74229867, 0.30764388,\n",
       "        0.77052472, 0.60274056, 0.81819842, 0.24471394, 0.63646974],\n",
       "       [0.70598048, 0.97458473, 0.33155764, 0.92135372, 0.13457875,\n",
       "        0.69838766, 0.78069861, 0.72330753, 0.97744126, 0.45701802],\n",
       "       [0.86946624, 0.91475341, 0.05100631, 0.17098784, 0.87188842,\n",
       "        0.52723742, 0.4584794 , 0.34060187, 0.76610533, 0.09934707],\n",
       "       [0.16147189, 0.34787053, 0.0485754 , 0.79277306, 0.87064415,\n",
       "        0.67442015, 0.21235238, 0.93196706, 0.46834568, 0.08258064],\n",
       "       [0.14433859, 0.12666254, 0.69110157, 0.48655104, 0.26615018,\n",
       "        0.92923686, 0.06301487, 0.29549253, 0.98271162, 0.46828607]])"
      ]
     },
     "execution_count": 18,
     "metadata": {},
     "output_type": "execute_result"
    }
   ],
   "source": [
    "f"
   ]
  },
  {
   "cell_type": "code",
   "execution_count": 19,
   "id": "3fb4e201",
   "metadata": {},
   "outputs": [],
   "source": [
    "m1=np.max(f)"
   ]
  },
  {
   "cell_type": "code",
   "execution_count": 20,
   "id": "6c82788a",
   "metadata": {},
   "outputs": [
    {
     "data": {
      "text/plain": [
       "0.9827116202672677"
      ]
     },
     "execution_count": 20,
     "metadata": {},
     "output_type": "execute_result"
    }
   ],
   "source": [
    "m1"
   ]
  },
  {
   "cell_type": "code",
   "execution_count": 21,
   "id": "f10a5cbe",
   "metadata": {},
   "outputs": [],
   "source": [
    "m2=np.min(f)"
   ]
  },
  {
   "cell_type": "code",
   "execution_count": 22,
   "id": "7e19f37a",
   "metadata": {},
   "outputs": [
    {
     "data": {
      "text/plain": [
       "0.011372447874574476"
      ]
     },
     "execution_count": 22,
     "metadata": {},
     "output_type": "execute_result"
    }
   ],
   "source": [
    "m2"
   ]
  },
  {
   "cell_type": "markdown",
   "id": "73a47737",
   "metadata": {},
   "source": [
    "# Q no: 09\n",
    "Create a random vector of size 30 and find the mean value"
   ]
  },
  {
   "cell_type": "code",
   "execution_count": 23,
   "id": "a098eb4f",
   "metadata": {},
   "outputs": [],
   "source": [
    "v1=np.random.rand(30)"
   ]
  },
  {
   "cell_type": "code",
   "execution_count": 24,
   "id": "4a90be3d",
   "metadata": {},
   "outputs": [
    {
     "data": {
      "text/plain": [
       "array([0.78586106, 0.43366562, 0.1702551 , 0.02476491, 0.81333364,\n",
       "       0.88335971, 0.48818502, 0.99668923, 0.70588698, 0.58073958,\n",
       "       0.17589711, 0.6758854 , 0.53994511, 0.84005738, 0.33319308,\n",
       "       0.38836539, 0.36892432, 0.83598439, 0.69285584, 0.20004007,\n",
       "       0.7828641 , 0.96083709, 0.29563654, 0.77303404, 0.94544315,\n",
       "       0.58068863, 0.56788794, 0.01982801, 0.64394519, 0.10816833])"
      ]
     },
     "execution_count": 24,
     "metadata": {},
     "output_type": "execute_result"
    }
   ],
   "source": [
    "v1"
   ]
  },
  {
   "cell_type": "code",
   "execution_count": 25,
   "id": "a11d48b5",
   "metadata": {},
   "outputs": [],
   "source": [
    "m=np.mean(v1)"
   ]
  },
  {
   "cell_type": "code",
   "execution_count": 26,
   "id": "a899a731",
   "metadata": {},
   "outputs": [
    {
     "data": {
      "text/plain": [
       "0.5537407323948632"
      ]
     },
     "execution_count": 26,
     "metadata": {},
     "output_type": "execute_result"
    }
   ],
   "source": [
    "m"
   ]
  }
 ],
 "metadata": {
  "kernelspec": {
   "display_name": "Python 3 (ipykernel)",
   "language": "python",
   "name": "python3"
  },
  "language_info": {
   "codemirror_mode": {
    "name": "ipython",
    "version": 3
   },
   "file_extension": ".py",
   "mimetype": "text/x-python",
   "name": "python",
   "nbconvert_exporter": "python",
   "pygments_lexer": "ipython3",
   "version": "3.10.8"
  }
 },
 "nbformat": 4,
 "nbformat_minor": 5
}
