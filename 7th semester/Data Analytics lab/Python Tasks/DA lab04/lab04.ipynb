{
 "cells": [
  {
   "cell_type": "markdown",
   "id": "f9c36f68",
   "metadata": {},
   "source": [
    "# Task00"
   ]
  },
  {
   "cell_type": "code",
   "execution_count": 1,
   "id": "06df757c",
   "metadata": {},
   "outputs": [
    {
     "name": "stdout",
     "output_type": "stream",
     "text": [
      "Profit per bag: 0.25\n",
      "Profit of 500 bags: 125.0\n"
     ]
    }
   ],
   "source": [
    "x=1.25\n",
    "profit1=1.25*20/100\n",
    "print(\"Profit per bag:\",profit1)\n",
    "profit2=500*profit1\n",
    "print(\"Profit of 500 bags:\",profit2)"
   ]
  },
  {
   "cell_type": "markdown",
   "id": "a221a4bb",
   "metadata": {},
   "source": [
    "# Task01"
   ]
  },
  {
   "cell_type": "code",
   "execution_count": 2,
   "id": "7bec53e9",
   "metadata": {},
   "outputs": [
    {
     "name": "stdout",
     "output_type": "stream",
     "text": [
      "Total no of childs:  158378\n"
     ]
    }
   ],
   "source": [
    "population=198568\n",
    "men=4512\n",
    "women=35678\n",
    "child=population-(men+women)\n",
    "print(\"Total no of childs: \",child)"
   ]
  },
  {
   "cell_type": "markdown",
   "id": "f54c9fe1",
   "metadata": {},
   "source": [
    "# Task02"
   ]
  },
  {
   "cell_type": "code",
   "execution_count": 3,
   "id": "a414656f",
   "metadata": {},
   "outputs": [
    {
     "name": "stdout",
     "output_type": "stream",
     "text": [
      "Total Pencils are: 58200\n"
     ]
    }
   ],
   "source": [
    "boxes=2425\n",
    "pencils=24\n",
    "totalpencil=boxes*pencils\n",
    "print(\"Total Pencils are:\",totalpencil)"
   ]
  },
  {
   "cell_type": "markdown",
   "id": "bea83ac9",
   "metadata": {},
   "source": [
    "# Task03"
   ]
  },
  {
   "cell_type": "code",
   "execution_count": 4,
   "id": "b80964ee",
   "metadata": {},
   "outputs": [
    {
     "name": "stdout",
     "output_type": "stream",
     "text": [
      "Return is: 585\n"
     ]
    }
   ],
   "source": [
    "coatRs=2265\n",
    "sareeRs=2150\n",
    "pay=5000\n",
    "rturn=5000-(2265+2150)\n",
    "print(\"Return is:\",rturn)"
   ]
  },
  {
   "cell_type": "markdown",
   "id": "23411dbf",
   "metadata": {},
   "source": [
    "# Task04"
   ]
  },
  {
   "cell_type": "code",
   "execution_count": 5,
   "id": "82cb841d",
   "metadata": {},
   "outputs": [
    {
     "name": "stdout",
     "output_type": "stream",
     "text": [
      "Cost of each TV: 4564.0\n"
     ]
    }
   ],
   "source": [
    "tv21cost=95844\n",
    "tv1cost=tv21cost/21\n",
    "print(\"Cost of each TV:\",tv1cost)"
   ]
  },
  {
   "cell_type": "markdown",
   "id": "1bbfa265",
   "metadata": {},
   "source": [
    "# Task05"
   ]
  },
  {
   "cell_type": "code",
   "execution_count": 6,
   "id": "7289888c",
   "metadata": {},
   "outputs": [
    {
     "name": "stdout",
     "output_type": "stream",
     "text": [
      "Annual product is: 294384\n"
     ]
    }
   ],
   "source": [
    "bulbs=24532\n",
    "annual=bulbs*12\n",
    "print(\"Annual product is:\",annual)"
   ]
  },
  {
   "cell_type": "markdown",
   "id": "d2a46d35",
   "metadata": {},
   "source": [
    "# Task06"
   ]
  },
  {
   "cell_type": "code",
   "execution_count": 7,
   "id": "36783d4e",
   "metadata": {},
   "outputs": [
    {
     "name": "stdout",
     "output_type": "stream",
     "text": [
      "Total Rice bags are: 67544\n"
     ]
    }
   ],
   "source": [
    "suger_bags=145968\n",
    "wheat_bags=236488\n",
    "total_bags=450000\n",
    "Rice_bags=total_bags-(suger_bags + wheat_bags)\n",
    "print(\"Total Rice bags are:\",Rice_bags)"
   ]
  },
  {
   "cell_type": "markdown",
   "id": "2c940e7c",
   "metadata": {},
   "source": [
    "# Task07 "
   ]
  },
  {
   "cell_type": "code",
   "execution_count": 8,
   "id": "e6ddec5d",
   "metadata": {},
   "outputs": [
    {
     "name": "stdout",
     "output_type": "stream",
     "text": [
      "third week toys production is: 199187\n"
     ]
    }
   ],
   "source": [
    "toys=483684\n",
    "first_week=146345\n",
    "second_week=138152\n",
    "third_week=toys-(first_week+second_week)\n",
    "print(\"third week toys production is:\",third_week)"
   ]
  },
  {
   "cell_type": "markdown",
   "id": "8bc3e11c",
   "metadata": {},
   "source": [
    "# Task08"
   ]
  },
  {
   "cell_type": "code",
   "execution_count": 9,
   "id": "bd575e14",
   "metadata": {},
   "outputs": [
    {
     "name": "stdout",
     "output_type": "stream",
     "text": [
      "Total cost of 124 sofa sets: 1157912\n"
     ]
    }
   ],
   "source": [
    "sofaset=9338\n",
    "totalsofaset=124\n",
    "totalcost=sofaset*totalsofaset\n",
    "print(\"Total cost of 124 sofa sets:\",totalcost)"
   ]
  },
  {
   "cell_type": "markdown",
   "id": "6b50d5cb",
   "metadata": {},
   "source": [
    "# Task09"
   ]
  },
  {
   "cell_type": "code",
   "execution_count": 10,
   "id": "168fbc49",
   "metadata": {},
   "outputs": [
    {
     "name": "stdout",
     "output_type": "stream",
     "text": [
      "equal no of students in each room: 51.0\n"
     ]
    }
   ],
   "source": [
    "rooms=86\n",
    "students=4386\n",
    "equalnoofstudent=students/rooms\n",
    "print(\"equal no of students in each room:\",equalnoofstudent)"
   ]
  },
  {
   "cell_type": "markdown",
   "id": "e58ec1d0",
   "metadata": {},
   "source": [
    "# Task10"
   ]
  },
  {
   "cell_type": "code",
   "execution_count": 11,
   "id": "fd81e987",
   "metadata": {},
   "outputs": [
    {
     "name": "stdout",
     "output_type": "stream",
     "text": [
      "No of buses required: 21.0\n"
     ]
    }
   ],
   "source": [
    "students=1575\n",
    "bus_capacity=75\n",
    "no_of_buses=students/bus_capacity\n",
    "print(\"No of buses required:\",no_of_buses)"
   ]
  },
  {
   "cell_type": "markdown",
   "id": "f6f857b9",
   "metadata": {},
   "source": [
    "# Task11"
   ]
  },
  {
   "cell_type": "code",
   "execution_count": 12,
   "id": "087e8116",
   "metadata": {},
   "outputs": [
    {
     "name": "stdout",
     "output_type": "stream",
     "text": [
      "Cost of 15 radios is : 22125\n"
     ]
    }
   ],
   "source": [
    "radio=1475\n",
    "cost_of_15=radio*15\n",
    "print(\"Cost of 15 radios is :\",cost_of_15)"
   ]
  },
  {
   "cell_type": "markdown",
   "id": "ba6fb98e",
   "metadata": {},
   "source": [
    "# Task12 "
   ]
  },
  {
   "cell_type": "code",
   "execution_count": 13,
   "id": "b91b0cd3",
   "metadata": {},
   "outputs": [
    {
     "name": "stdout",
     "output_type": "stream",
     "text": [
      "Total no of people are: 142354\n"
     ]
    }
   ],
   "source": [
    "Ron_vote=52496\n",
    "jhon_vote=44929\n",
    "Mike_vote=44929\n",
    "total_no_of_people=Ron_vote+jhon_vote+Mike_vote\n",
    "print(\"Total no of people are:\",total_no_of_people)"
   ]
  },
  {
   "cell_type": "markdown",
   "id": "7151a4be",
   "metadata": {},
   "source": [
    "# Task13"
   ]
  },
  {
   "cell_type": "code",
   "execution_count": 14,
   "id": "683102be",
   "metadata": {},
   "outputs": [
    {
     "name": "stdout",
     "output_type": "stream",
     "text": [
      "Price of each toy: 135.0\n",
      "Total amount she had: 13975\n"
     ]
    }
   ],
   "source": [
    "toys=96\n",
    "price=12960\n",
    "remaining_amount=1015\n",
    "price_of_each_toy=price/toys\n",
    "print(\"Price of each toy:\",price_of_each_toy)\n",
    "total_amount=price+ remaining_amount\n",
    "print(\"Total amount she had:\",total_amount)"
   ]
  },
  {
   "cell_type": "markdown",
   "id": "db3ccc84",
   "metadata": {},
   "source": [
    "# Task14"
   ]
  },
  {
   "cell_type": "code",
   "execution_count": 15,
   "id": "76265d55",
   "metadata": {},
   "outputs": [
    {
     "name": "stdout",
     "output_type": "stream",
     "text": [
      "Profit made by the Company: 800\n"
     ]
    }
   ],
   "source": [
    "flying_cost=5000\n",
    "people=29\n",
    "charge_per_people=200\n",
    "profit=(people*charge_per_people)-5000\n",
    "print(\"Profit made by the Company:\",profit)"
   ]
  },
  {
   "cell_type": "markdown",
   "id": "64f206ba",
   "metadata": {},
   "source": [
    "# Task15 "
   ]
  },
  {
   "cell_type": "code",
   "execution_count": 16,
   "id": "508c184a",
   "metadata": {},
   "outputs": [
    {
     "name": "stdout",
     "output_type": "stream",
     "text": [
      "21+28+35+42+49+56+63+70+77+84+91+98+105+112+119+126+133+140+147+154+161+168+175+182+189+196+203+210+217+224+231+238+245+252+259+266+273+280+287+294+301+308+315+322+329+336+343+350+357+364+371+378+385+392+399+406+413+420+427+434+441+448+455+462+469+476+483+490+497+504+511+518+525+532=20461\n"
     ]
    }
   ],
   "source": [
    "total=0\n",
    "for i in range (18,534):\n",
    "    if i%7==0:\n",
    "        total=total+i\n",
    "        if i==532:\n",
    "            print(i,end=\"=\")\n",
    "        else:\n",
    "            print(i,end=\"+\")\n",
    "print(total)\n",
    "    "
   ]
  },
  {
   "cell_type": "markdown",
   "id": "a8c29fd9",
   "metadata": {},
   "source": [
    "# Task16"
   ]
  },
  {
   "cell_type": "code",
   "execution_count": 17,
   "id": "3a6f44ee",
   "metadata": {},
   "outputs": [],
   "source": [
    "tweets = [\n",
    "\"Wow, what a great day today!! #sunshine\",\n",
    "\"I feel sad about the things going on around us. #covid19\",\n",
    "\"I'm really excited to learn Python with @JovianML #zerotopandas\",\n",
    "\"This is a really nice song. #linkinpark\",\n",
    "\"The python programming language is useful for data science\",\n",
    "\"Why do bad things happen to me?\",\n",
    "\"Apple announces the release of the new iPhone 12. Fans are excited.\",\n",
    "\"Spent my day with family!! #happy\",\n",
    "\"Check out my blog post on common string operations in Python. #zerotopandas\",\n",
    "\"Freecodecamp has great coding tutorials. #skillup\"\n",
    "]"
   ]
  },
  {
   "cell_type": "markdown",
   "id": "832975d7",
   "metadata": {},
   "source": [
    "Q no: 01"
   ]
  },
  {
   "cell_type": "code",
   "execution_count": 18,
   "id": "6498d4a2",
   "metadata": {},
   "outputs": [
    {
     "name": "stdout",
     "output_type": "stream",
     "text": [
      "The Total no of tweets are:  10\n"
     ]
    }
   ],
   "source": [
    "no_of_tweets=len(tweets)\n",
    "print(\"The Total no of tweets are: \",no_of_tweets)"
   ]
  },
  {
   "cell_type": "markdown",
   "id": "0aea72e5",
   "metadata": {},
   "source": [
    "Q no: 02"
   ]
  },
  {
   "cell_type": "code",
   "execution_count": 19,
   "id": "b2f91c61",
   "metadata": {},
   "outputs": [
    {
     "name": "stdout",
     "output_type": "stream",
     "text": [
      "the No of happy tweets are: 5\n"
     ]
    }
   ],
   "source": [
    "happylist=[\"wow\",\"excited\",\"nice\",\"#happy\",\"great\"]\n",
    "count_happy=0\n",
    "for item1 in tweets:\n",
    "    for word in item1.split():\n",
    "        for happeness in happylist:\n",
    "            if word==happeness:\n",
    "                count_happy=count_happy+1\n",
    "print(\"the No of happy tweets are:\",count_happy)"
   ]
  },
  {
   "cell_type": "markdown",
   "id": "0ca5026b",
   "metadata": {},
   "source": [
    "Q no: 03"
   ]
  },
  {
   "cell_type": "code",
   "execution_count": 20,
   "id": "48495f6b",
   "metadata": {},
   "outputs": [
    {
     "name": "stdout",
     "output_type": "stream",
     "text": [
      "Happy's fractional part of total tweets: 0.5\n"
     ]
    }
   ],
   "source": [
    "happy_fraction=count_happy/no_of_tweets\n",
    "print(\"Happy's fractional part of total tweets:\", happy_fraction)"
   ]
  },
  {
   "cell_type": "markdown",
   "id": "7a95950b",
   "metadata": {},
   "source": [
    "Q no: 04"
   ]
  },
  {
   "cell_type": "code",
   "execution_count": 21,
   "id": "bfc9eee9",
   "metadata": {},
   "outputs": [
    {
     "name": "stdout",
     "output_type": "stream",
     "text": [
      "the No of unhappy tweets are: 2\n"
     ]
    }
   ],
   "source": [
    "unhappylist=[\"sad\",\"bad\"]\n",
    "count_unhappy=0\n",
    "for item1 in tweets:\n",
    "    for word in item1.split():\n",
    "        for sadness in unhappylist:\n",
    "            if word==sadness:\n",
    "                count_unhappy=count_unhappy+1\n",
    "print(\"the No of unhappy tweets are:\",count_unhappy)"
   ]
  },
  {
   "cell_type": "markdown",
   "id": "e8f8757d",
   "metadata": {},
   "source": [
    "`Q no: 05"
   ]
  },
  {
   "cell_type": "code",
   "execution_count": 22,
   "id": "d2e24efb",
   "metadata": {},
   "outputs": [
    {
     "name": "stdout",
     "output_type": "stream",
     "text": [
      "Unhappy's fractional part of total tweets: 0.2\n"
     ]
    }
   ],
   "source": [
    "unhappy_fraction=count_unhappy/no_of_tweets\n",
    "print(\"Unhappy's fractional part of total tweets:\", unhappy_fraction)"
   ]
  },
  {
   "cell_type": "markdown",
   "id": "0c544638",
   "metadata": {},
   "source": [
    "Q no: 06\n"
   ]
  },
  {
   "cell_type": "code",
   "execution_count": 23,
   "id": "7bec213c",
   "metadata": {},
   "outputs": [
    {
     "name": "stdout",
     "output_type": "stream",
     "text": [
      "Sentiment Score:  0.3\n"
     ]
    }
   ],
   "source": [
    "sentiment_score=happy_fraction-unhappy_fraction\n",
    "print(\"Sentiment Score: \",sentiment_score)"
   ]
  },
  {
   "cell_type": "markdown",
   "id": "a1674bfe",
   "metadata": {},
   "source": [
    "sentiment score is positive. it means that the sentiment of given dataset of the tweets is happy."
   ]
  },
  {
   "cell_type": "markdown",
   "id": "8db03d0d",
   "metadata": {},
   "source": [
    "Q no: 07"
   ]
  },
  {
   "cell_type": "code",
   "execution_count": 24,
   "id": "1fc465e3",
   "metadata": {},
   "outputs": [
    {
     "name": "stdout",
     "output_type": "stream",
     "text": [
      "the No of Neutral tweets are: 3\n"
     ]
    }
   ],
   "source": [
    "count_neutral=no_of_tweets-(count_happy+count_unhappy)\n",
    "print(\"the No of Neutral tweets are:\",count_neutral)"
   ]
  },
  {
   "cell_type": "markdown",
   "id": "7ea0aacc",
   "metadata": {},
   "source": [
    "Q on: 08\n"
   ]
  },
  {
   "cell_type": "code",
   "execution_count": 25,
   "id": "429defd6",
   "metadata": {},
   "outputs": [
    {
     "name": "stdout",
     "output_type": "stream",
     "text": [
      "Neutral's fractional part of total tweets: 0.3\n"
     ]
    }
   ],
   "source": [
    "neutral_fraction=count_neutral/no_of_tweets\n",
    "print(\"Neutral's fractional part of total tweets:\", neutral_fraction)"
   ]
  }
 ],
 "metadata": {
  "kernelspec": {
   "display_name": "Python 3.10.8 64-bit",
   "language": "python",
   "name": "python3"
  },
  "language_info": {
   "codemirror_mode": {
    "name": "ipython",
    "version": 3
   },
   "file_extension": ".py",
   "mimetype": "text/x-python",
   "name": "python",
   "nbconvert_exporter": "python",
   "pygments_lexer": "ipython3",
   "version": "3.10.8"
  },
  "vscode": {
   "interpreter": {
    "hash": "4918cc7a24983d5d2771635c680f256cc2c8ca9e90f056172d3726f65d298bc2"
   }
  }
 },
 "nbformat": 4,
 "nbformat_minor": 5
}
